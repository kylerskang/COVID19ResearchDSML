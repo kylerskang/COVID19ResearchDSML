{
  "nbformat": 4,
  "nbformat_minor": 0,
  "metadata": {
    "colab": {
      "name": "SentimentAnalysisModel.ipynb",
      "provenance": []
    },
    "kernelspec": {
      "name": "python3",
      "display_name": "Python 3"
    }
  },
  "cells": [
    {
      "cell_type": "code",
      "metadata": {
        "id": "hvivvQ8UjFjn",
        "colab": {
          "base_uri": "https://localhost:8080/",
          "height": 85
        },
        "outputId": "4b33cb9b-bfc0-4db8-b67e-593e47f0800b"
      },
      "source": [
        "from statistics import mean\n",
        "import pandas as pd\n",
        "import nltk\n",
        "nltk.download('vader_lexicon')\n",
        "from nltk.sentiment.vader import SentimentIntensityAnalyzer\n",
        "sid = SentimentIntensityAnalyzer()\n",
        "\n",
        "sentiment_score = []\n",
        "\n",
        "\n",
        "df = pd.read_csv('ready_july9_july10.csv')\n",
        "#display(df)\n",
        "\n",
        "for i in df.index:\n",
        "  score = sid.polarity_scores((df[\"text\"][i]))\n",
        "  sentiment_score.append(score['compound'])\n",
        "  #sentiment_score.append(score)\n",
        "\n",
        "display(mean(sentiment_score))\n",
        "\n",
        "\n",
        "sentence = \"Covid-19 is bad\"\n",
        "sid.polarity_scores(sentence)"
      ],
      "execution_count": null,
      "outputs": [
        {
          "output_type": "stream",
          "text": [
            "[nltk_data] Downloading package vader_lexicon to /root/nltk_data...\n",
            "[nltk_data]   Package vader_lexicon is already up-to-date!\n"
          ],
          "name": "stdout"
        },
        {
          "output_type": "display_data",
          "data": {
            "text/plain": [
              "0.26676078539823006"
            ]
          },
          "metadata": {
            "tags": []
          }
        },
        {
          "output_type": "execute_result",
          "data": {
            "text/plain": [
              "{'compound': -0.5423, 'neg': 0.636, 'neu': 0.364, 'pos': 0.0}"
            ]
          },
          "metadata": {
            "tags": []
          },
          "execution_count": 40
        }
      ]
    },
    {
      "cell_type": "code",
      "metadata": {
        "id": "OkQhO7M9la9R",
        "colab": {
          "base_uri": "https://localhost:8080/",
          "height": 34
        },
        "outputId": "263a0a3b-347a-4bf5-cc0f-5d275fab5621"
      },
      "source": [
        "from textblob import TextBlob\n",
        "\n",
        "TextBlob(\"Covid-19 is a bad\").sentiment"
      ],
      "execution_count": null,
      "outputs": [
        {
          "output_type": "execute_result",
          "data": {
            "text/plain": [
              "Sentiment(polarity=-0.6999999999999998, subjectivity=0.6666666666666666)"
            ]
          },
          "metadata": {
            "tags": []
          },
          "execution_count": 38
        }
      ]
    }
  ]
}