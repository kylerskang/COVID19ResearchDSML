{
  "nbformat": 4,
  "nbformat_minor": 0,
  "metadata": {
    "colab": {
      "name": "Covid19Tweets.ipynb",
      "provenance": [],
      "collapsed_sections": []
    },
    "kernelspec": {
      "name": "python3",
      "display_name": "Python 3"
    }
  },
  "cells": [
    {
      "cell_type": "code",
      "metadata": {
        "id": "JrHfE9Zm1kL9",
        "colab": {
          "base_uri": "https://localhost:8080/",
          "height": 1000
        },
        "outputId": "b744a5dd-3ba2-4be2-d3fc-2328e39c062b"
      },
      "source": [
        "import pandas as pd\n",
        "import matplotlib.pyplot as plt\n",
        "\n",
        "df = pd.read_csv(\"corona_tweets_116.csv\")\n",
        "print(df.describe())\n",
        "display(df)\n",
        "\n",
        "sentiment = df.iloc[:,1]\n",
        "mean = sentiment.mean()\n",
        "display(mean)\n",
        "display(sentiment.std())\n",
        "\n",
        "df = df[df.iloc[:,1] != 0]\n",
        "display(df)\n",
        "\n",
        "sentiment = df.iloc[:,1]\n",
        "mean = sentiment.mean()\n",
        "display(mean)\n",
        "display(sentiment.std())\n",
        "\n",
        "\n",
        "plt.hist(df.iloc[:,1], bins = 20, edgeColor = \"black\")\n",
        "plt.xlabel(\"Sentiment Score\")\n",
        "#plt.savefig(\"Sentiment Score Distrubtion with no 0 score\")\n",
        "plt.show()\n",
        "\n",
        "'''\n",
        "data_frame = pd.read_csv(\"owid-covid-data.csv\")\n",
        "us_cases = data_frame.loc[27570:27759,:]\n",
        "'''\n",
        "\n",
        "plt.figure(figsize=(100,20))\n",
        "plt.bar(us_cases[\"date\"],us_cases[\"new_cases\"])\n",
        "plt.ylabel(\"New Cases\")\n",
        "plt.title(\"Covid-19 Confirmed Cases in the US by Date\")\n",
        "plt.savefig(\"Covid-19 Confirmed Cases in the US by Date\")\n",
        "plt.show()\n",
        "\n",
        "\n",
        "\n"
      ],
      "execution_count": null,
      "outputs": [
        {
          "output_type": "stream",
          "text": [
            "       1282169216280358912       -0.2625\n",
            "count         1.087208e+06  1.087207e+06\n",
            "mean          1.282230e+18  6.273429e-02\n",
            "std           1.230272e+15  2.508243e-01\n",
            "min           1.282291e+06 -1.000000e+00\n",
            "25%           1.282199e+18  0.000000e+00\n",
            "50%           1.282231e+18  0.000000e+00\n",
            "75%           1.282264e+18  2.000000e-01\n",
            "max           1.282292e+18  1.000000e+00\n"
          ],
          "name": "stdout"
        },
        {
          "output_type": "display_data",
          "data": {
            "text/html": [
              "<div>\n",
              "<style scoped>\n",
              "    .dataframe tbody tr th:only-of-type {\n",
              "        vertical-align: middle;\n",
              "    }\n",
              "\n",
              "    .dataframe tbody tr th {\n",
              "        vertical-align: top;\n",
              "    }\n",
              "\n",
              "    .dataframe thead th {\n",
              "        text-align: right;\n",
              "    }\n",
              "</style>\n",
              "<table border=\"1\" class=\"dataframe\">\n",
              "  <thead>\n",
              "    <tr style=\"text-align: right;\">\n",
              "      <th></th>\n",
              "      <th>1282169216280358912</th>\n",
              "      <th>-0.2625</th>\n",
              "    </tr>\n",
              "  </thead>\n",
              "  <tbody>\n",
              "    <tr>\n",
              "      <th>0</th>\n",
              "      <td>1282169216259391490</td>\n",
              "      <td>0.000</td>\n",
              "    </tr>\n",
              "    <tr>\n",
              "      <th>1</th>\n",
              "      <td>1282169216339238912</td>\n",
              "      <td>0.000</td>\n",
              "    </tr>\n",
              "    <tr>\n",
              "      <th>2</th>\n",
              "      <td>1282169216016277504</td>\n",
              "      <td>0.000</td>\n",
              "    </tr>\n",
              "    <tr>\n",
              "      <th>3</th>\n",
              "      <td>1282169216674586624</td>\n",
              "      <td>-0.125</td>\n",
              "    </tr>\n",
              "    <tr>\n",
              "      <th>4</th>\n",
              "      <td>1282169216741900288</td>\n",
              "      <td>-0.300</td>\n",
              "    </tr>\n",
              "    <tr>\n",
              "      <th>...</th>\n",
              "      <td>...</td>\n",
              "      <td>...</td>\n",
              "    </tr>\n",
              "    <tr>\n",
              "      <th>1087203</th>\n",
              "      <td>1282291723188805632</td>\n",
              "      <td>-0.575</td>\n",
              "    </tr>\n",
              "    <tr>\n",
              "      <th>1087204</th>\n",
              "      <td>1282291723163631616</td>\n",
              "      <td>-0.250</td>\n",
              "    </tr>\n",
              "    <tr>\n",
              "      <th>1087205</th>\n",
              "      <td>1282291723184594945</td>\n",
              "      <td>0.000</td>\n",
              "    </tr>\n",
              "    <tr>\n",
              "      <th>1087206</th>\n",
              "      <td>1282291723280896000</td>\n",
              "      <td>0.000</td>\n",
              "    </tr>\n",
              "    <tr>\n",
              "      <th>1087207</th>\n",
              "      <td>1282291</td>\n",
              "      <td>NaN</td>\n",
              "    </tr>\n",
              "  </tbody>\n",
              "</table>\n",
              "<p>1087208 rows × 2 columns</p>\n",
              "</div>"
            ],
            "text/plain": [
              "         1282169216280358912  -0.2625\n",
              "0        1282169216259391490    0.000\n",
              "1        1282169216339238912    0.000\n",
              "2        1282169216016277504    0.000\n",
              "3        1282169216674586624   -0.125\n",
              "4        1282169216741900288   -0.300\n",
              "...                      ...      ...\n",
              "1087203  1282291723188805632   -0.575\n",
              "1087204  1282291723163631616   -0.250\n",
              "1087205  1282291723184594945    0.000\n",
              "1087206  1282291723280896000    0.000\n",
              "1087207              1282291      NaN\n",
              "\n",
              "[1087208 rows x 2 columns]"
            ]
          },
          "metadata": {
            "tags": []
          }
        },
        {
          "output_type": "display_data",
          "data": {
            "text/plain": [
              "0.06273428828944975"
            ]
          },
          "metadata": {
            "tags": []
          }
        },
        {
          "output_type": "display_data",
          "data": {
            "text/plain": [
              "0.25082430827949415"
            ]
          },
          "metadata": {
            "tags": []
          }
        },
        {
          "output_type": "display_data",
          "data": {
            "text/html": [
              "<div>\n",
              "<style scoped>\n",
              "    .dataframe tbody tr th:only-of-type {\n",
              "        vertical-align: middle;\n",
              "    }\n",
              "\n",
              "    .dataframe tbody tr th {\n",
              "        vertical-align: top;\n",
              "    }\n",
              "\n",
              "    .dataframe thead th {\n",
              "        text-align: right;\n",
              "    }\n",
              "</style>\n",
              "<table border=\"1\" class=\"dataframe\">\n",
              "  <thead>\n",
              "    <tr style=\"text-align: right;\">\n",
              "      <th></th>\n",
              "      <th>1282169216280358912</th>\n",
              "      <th>-0.2625</th>\n",
              "    </tr>\n",
              "  </thead>\n",
              "  <tbody>\n",
              "    <tr>\n",
              "      <th>3</th>\n",
              "      <td>1282169216674586624</td>\n",
              "      <td>-0.125000</td>\n",
              "    </tr>\n",
              "    <tr>\n",
              "      <th>4</th>\n",
              "      <td>1282169216741900288</td>\n",
              "      <td>-0.300000</td>\n",
              "    </tr>\n",
              "    <tr>\n",
              "      <th>7</th>\n",
              "      <td>1282169216963993600</td>\n",
              "      <td>0.033333</td>\n",
              "    </tr>\n",
              "    <tr>\n",
              "      <th>8</th>\n",
              "      <td>1282169216943046656</td>\n",
              "      <td>0.318182</td>\n",
              "    </tr>\n",
              "    <tr>\n",
              "      <th>9</th>\n",
              "      <td>1282169217031172096</td>\n",
              "      <td>0.227273</td>\n",
              "    </tr>\n",
              "    <tr>\n",
              "      <th>...</th>\n",
              "      <td>...</td>\n",
              "      <td>...</td>\n",
              "    </tr>\n",
              "    <tr>\n",
              "      <th>1087201</th>\n",
              "      <td>1282291722555457536</td>\n",
              "      <td>0.300000</td>\n",
              "    </tr>\n",
              "    <tr>\n",
              "      <th>1087202</th>\n",
              "      <td>1282291722886807554</td>\n",
              "      <td>-0.173214</td>\n",
              "    </tr>\n",
              "    <tr>\n",
              "      <th>1087203</th>\n",
              "      <td>1282291723188805632</td>\n",
              "      <td>-0.575000</td>\n",
              "    </tr>\n",
              "    <tr>\n",
              "      <th>1087204</th>\n",
              "      <td>1282291723163631616</td>\n",
              "      <td>-0.250000</td>\n",
              "    </tr>\n",
              "    <tr>\n",
              "      <th>1087207</th>\n",
              "      <td>1282291</td>\n",
              "      <td>NaN</td>\n",
              "    </tr>\n",
              "  </tbody>\n",
              "</table>\n",
              "<p>680939 rows × 2 columns</p>\n",
              "</div>"
            ],
            "text/plain": [
              "         1282169216280358912   -0.2625\n",
              "3        1282169216674586624 -0.125000\n",
              "4        1282169216741900288 -0.300000\n",
              "7        1282169216963993600  0.033333\n",
              "8        1282169216943046656  0.318182\n",
              "9        1282169217031172096  0.227273\n",
              "...                      ...       ...\n",
              "1087201  1282291722555457536  0.300000\n",
              "1087202  1282291722886807554 -0.173214\n",
              "1087203  1282291723188805632 -0.575000\n",
              "1087204  1282291723163631616 -0.250000\n",
              "1087207              1282291       NaN\n",
              "\n",
              "[680939 rows x 2 columns]"
            ]
          },
          "metadata": {
            "tags": []
          }
        },
        {
          "output_type": "display_data",
          "data": {
            "text/plain": [
              "0.10016353525329443"
            ]
          },
          "metadata": {
            "tags": []
          }
        },
        {
          "output_type": "display_data",
          "data": {
            "text/plain": [
              "0.3109656094547532"
            ]
          },
          "metadata": {
            "tags": []
          }
        },
        {
          "output_type": "stream",
          "text": [
            "/usr/local/lib/python3.6/dist-packages/numpy/lib/histograms.py:839: RuntimeWarning: invalid value encountered in greater_equal\n",
            "  keep = (tmp_a >= first_edge)\n",
            "/usr/local/lib/python3.6/dist-packages/numpy/lib/histograms.py:840: RuntimeWarning: invalid value encountered in less_equal\n",
            "  keep &= (tmp_a <= last_edge)\n"
          ],
          "name": "stderr"
        },
        {
          "output_type": "display_data",
          "data": {
            "image/png": "[encoded data removed]",
            "text/plain": [
              "<Figure size 432x288 with 1 Axes>"
            ]
          },
          "metadata": {
            "tags": [],
            "needs_background": "light"
          }
        },
        {
          "output_type": "error",
          "ename": "NameError",
          "evalue": "ignored",
          "traceback": [
            "\u001b[0;31m---------------------------------------------------------------------------\u001b[0m",
            "\u001b[0;31mNameError\u001b[0m                                 Traceback (most recent call last)",
            "\u001b[0;32m<ipython-input-3-c9cf8d7d50eb>\u001b[0m in \u001b[0;36m<module>\u001b[0;34m()\u001b[0m\n\u001b[1;32m     31\u001b[0m \u001b[0;34m\u001b[0m\u001b[0m\n\u001b[1;32m     32\u001b[0m \u001b[0mplt\u001b[0m\u001b[0;34m.\u001b[0m\u001b[0mfigure\u001b[0m\u001b[0;34m(\u001b[0m\u001b[0mfigsize\u001b[0m\u001b[0;34m=\u001b[0m\u001b[0;34m(\u001b[0m\u001b[0;36m100\u001b[0m\u001b[0;34m,\u001b[0m\u001b[0;36m20\u001b[0m\u001b[0;34m)\u001b[0m\u001b[0;34m)\u001b[0m\u001b[0;34m\u001b[0m\u001b[0;34m\u001b[0m\u001b[0m\n\u001b[0;32m---> 33\u001b[0;31m \u001b[0mplt\u001b[0m\u001b[0;34m.\u001b[0m\u001b[0mbar\u001b[0m\u001b[0;34m(\u001b[0m\u001b[0mus_cases\u001b[0m\u001b[0;34m[\u001b[0m\u001b[0;34m\"date\"\u001b[0m\u001b[0;34m]\u001b[0m\u001b[0;34m,\u001b[0m\u001b[0mus_cases\u001b[0m\u001b[0;34m[\u001b[0m\u001b[0;34m\"new_cases\"\u001b[0m\u001b[0;34m]\u001b[0m\u001b[0;34m)\u001b[0m\u001b[0;34m\u001b[0m\u001b[0;34m\u001b[0m\u001b[0m\n\u001b[0m\u001b[1;32m     34\u001b[0m \u001b[0mplt\u001b[0m\u001b[0;34m.\u001b[0m\u001b[0mylabel\u001b[0m\u001b[0;34m(\u001b[0m\u001b[0;34m\"New Cases\"\u001b[0m\u001b[0;34m)\u001b[0m\u001b[0;34m\u001b[0m\u001b[0;34m\u001b[0m\u001b[0m\n\u001b[1;32m     35\u001b[0m \u001b[0mplt\u001b[0m\u001b[0;34m.\u001b[0m\u001b[0mtitle\u001b[0m\u001b[0;34m(\u001b[0m\u001b[0;34m\"Covid-19 Confirmed Cases in the US by Date\"\u001b[0m\u001b[0;34m)\u001b[0m\u001b[0;34m\u001b[0m\u001b[0;34m\u001b[0m\u001b[0m\n",
            "\u001b[0;31mNameError\u001b[0m: name 'us_cases' is not defined"
          ]
        },
        {
          "output_type": "display_data",
          "data": {
            "text/plain": [
              "<Figure size 7200x1440 with 0 Axes>"
            ]
          },
          "metadata": {
            "tags": []
          }
        }
      ]
    },
    {
      "cell_type": "code",
      "metadata": {
        "id": "x-D2TUFuJUQf"
      },
      "source": [
        "from google.colab import drive\n",
        "drive.mount('/content/drive')"
      ],
      "execution_count": null,
      "outputs": []
    }
  ]
}