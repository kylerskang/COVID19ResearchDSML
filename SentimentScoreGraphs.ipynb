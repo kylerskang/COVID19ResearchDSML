{
  "nbformat": 4,
  "nbformat_minor": 0,
  "metadata": {
    "colab": {
      "name": "SentimentScoreGraphs.ipynb",
      "provenance": [],
      "collapsed_sections": []
    },
    "kernelspec": {
      "name": "python3",
      "display_name": "Python 3"
    }
  },
  "cells": [
    {
      "cell_type": "code",
      "metadata": {
        "id": "zEt5M9c9CJha",
        "colab": {
          "base_uri": "https://localhost:8080/",
          "height": 398
        },
        "outputId": "6d5feb8e-9085-404a-ec36-39f17912c01d"
      },
      "source": [
        "import pandas as pd\n",
        "import matplotlib.pyplot as plt\n",
        "import sklearn\n",
        "import sklearn.datasets\n",
        "import sklearn.linear_model\n",
        "import sklearn.metrics\n",
        "import numpy as np\n",
        "\n",
        "\n",
        "#df = pd.read_csv(\"(Geotagged) Covid-19 Sentiment Score - Sheet1 (2).csv\")\n",
        "#sentiment = df.loc[0:106,:]\n",
        "\n",
        "#df = pd.read_csv(\"Covid-19 Sentiment Score - Sheet1 (4).csv\")\n",
        "#sentiment = df.loc[2:104,:]\n",
        "\n",
        "df = pd.read_csv(\"Sentiment Score - Two weeks Offset - Sheet1.csv\")\n",
        "sentiment = df.loc[0:102,:]\n",
        "\n",
        "#data_frame = pd.read_csv(\"owid-covid-data.csv\")\n",
        "#us_cases = data_frame.loc[29853:29959,:]\n",
        "\n",
        "#plt.figure(figsize=(20,8))\n",
        "#plt.bar(us_cases[\"date\"],us_cases[\"new_cases\"])\n",
        "#plt.ylabel(\"New Cases\")\n",
        "#plt.xlabel(\"Sentiment Score\")\n",
        "#plt.title(\"Sentiment Scores vs. Covid-19 Confirmed Cases (US)\")\n",
        "#plt.savefig(\"Covid-19 Confirmed Cases in the US by Date\")\n",
        "#plt.show()\n",
        "\n",
        "#plt.scatter(sentiment[\"Sentiment Score Mean\"],us_cases[\"new_deaths\"])\n",
        "#plt.savefig(\"Covid-19 Confirmed Cases vs Sentiment Score (US)\")\n",
        "\n",
        "#data_frame = pd.read_csv('datasets_494766_1337527_day_wise.csv')\n",
        "#data_frame = data_frame.loc[72:174,:]\n",
        "\n",
        "\n",
        "#plt.scatter(sentiment[\"Sentiment Score Mean\"],data_frame[\"New cases\"])\n",
        "#plt.savefig(\"Covid-19 New Cases vs Sentiment Score (Global)\")\n",
        "\n",
        "#plt.scatter(sentiment[\"Sentiment Score Mean\"],data_frame[\"New recovered\"])\n",
        "#plt.savefig(\"Recovered Cases vs Sentiment Score (Global)\")\n",
        "\n",
        "#plt.scatter(sentiment[\"Sentiment Score Mean\"],data_frame[\"New cases\"])\n",
        "#plt.savefig(\"Covid-19 Deaths vs Sentiment Score (Global)\")\n",
        "\n",
        "plt.scatter(sentiment[\"Sentiment Score Mean\"],sentiment[\"Covid-19 confirmed cases\"])\n",
        "#plt.savefig(\"Covid-19 Deaths vs Sentiment Score (Global)\")\n",
        "\n",
        "\n",
        "\n",
        "X = sentiment[\"Sentiment Score Mean\"]\n",
        "y = sentiment[\"Covid-19 confirmed cases\"]\n",
        "X=X.values.reshape((-1,1))\n",
        "\n",
        "model = sklearn.linear_model.LinearRegression()\n",
        "\n",
        "#linear regression\n",
        "model.fit(X,y)\n",
        "w = model.coef_\n",
        "b = model.intercept_\n",
        "print(w)\n",
        "print(b)\n",
        "\n",
        "yhat = model.predict(X)\n",
        "\n",
        "print(np.sum((yhat-y)**2))\n",
        "\n",
        "plt.ylabel(\"COVID-19 Deaths\")\n",
        "plt.xlabel(\"Sentiment Score\")\n",
        "plt.title(\"Sentiment Score Mean vs. Covid-19 Deaths\")\n",
        "plt.plot(X,yhat,color='red')\n",
        "plt.savefig(\"Sentiment Score Mean vs Covid-19 Deaths\")\n",
        "plt.show()\n",
        "\n",
        "\n",
        "'''\n",
        "#polynomial regression\n",
        "\n",
        "X2 = X**2\n",
        "X3 = X**3\n",
        "\n",
        "trans_X = np.hstack((X3,X2,X))\n",
        "\n",
        "model.fit(trans_X,y)\n",
        "w = model.coef_\n",
        "b = model.intercept_\n",
        "print(w)\n",
        "print(b)\n",
        "yhat = model.predict(trans_X)\n",
        "\n",
        "np.sum((yhat-y)**2)\n",
        "\n",
        "plt.plot(X,yhat,color='red')\n",
        "plt.show()\n",
        "'''\n",
        "\n"
      ],
      "execution_count": null,
      "outputs": [
        {
          "output_type": "stream",
          "text": [
            "[-761748.55133049]\n",
            "157573.1030274815\n",
            "201750367689.00912\n"
          ],
          "name": "stdout"
        },
        {
          "output_type": "display_data",
          "data": {
            "image/png": "[encoded data removed]",
            "text/plain": [
              "<Figure size 432x288 with 1 Axes>"
            ]
          },
          "metadata": {
            "tags": [],
            "needs_background": "light"
          }
        },
        {
          "output_type": "execute_result",
          "data": {
            "application/vnd.google.colaboratory.intrinsic": {
              "type": "string"
            },
            "text/plain": [
              "\"\\n#polynomial regression\\n\\nX2 = X**2\\nX3 = X**3\\n\\ntrans_X = np.hstack((X3,X2,X))\\n\\nmodel.fit(trans_X,y)\\nw = model.coef_\\nb = model.intercept_\\nprint(w)\\nprint(b)\\nyhat = model.predict(trans_X)\\n\\nnp.sum((yhat-y)**2)\\n\\nplt.plot(X,yhat,color='red')\\nplt.show()\\n\""
            ]
          },
          "metadata": {
            "tags": []
          },
          "execution_count": 62
        }
      ]
    },
    {
      "cell_type": "code",
      "metadata": {
        "id": "3CPd1ekl0Qw-",
        "colab": {
          "base_uri": "https://localhost:8080/",
          "height": 316
        },
        "outputId": "abd42d9f-dc04-41f2-d9b7-2066e4fd9e0a"
      },
      "source": [
        "#SentimentScore vs. New recovered without Outliers\n",
        "import pandas as pd\n",
        "import matplotlib.pyplot as plt\n",
        "import sklearn\n",
        "import sklearn.datasets\n",
        "import sklearn.linear_model\n",
        "import sklearn.metrics\n",
        "import numpy as np\n",
        "\n",
        "df = pd.read_csv(\"Sentiment Score vs. New Recovered Cases - Sheet1.csv\")\n",
        "\n",
        "\n",
        "X = df[\"Sentiment\"]\n",
        "y = df[\"New recovered\"]\n",
        "X=X.values.reshape((-1,1))\n",
        "\n",
        "model = sklearn.linear_model.LinearRegression()\n",
        "\n",
        "#linear regression\n",
        "model.fit(X,y)\n",
        "w = model.coef_\n",
        "b = model.intercept_\n",
        "print(w)\n",
        "print(b)\n",
        "\n",
        "yhat = model.predict(X)\n",
        "\n",
        "print(np.sum((yhat-y)**2))\n",
        "\n",
        "plt.scatter(X,y)\n",
        "plt.plot(X,yhat,color='red')\n",
        "plt.show()"
      ],
      "execution_count": null,
      "outputs": [
        {
          "output_type": "stream",
          "text": [
            "[-357857.94866821]\n",
            "76495.85916589655\n",
            "179647085801.12683\n"
          ],
          "name": "stdout"
        },
        {
          "output_type": "display_data",
          "data": {
            "image/png": "[encoded data removed]",
            "text/plain": [
              "<Figure size 432x288 with 1 Axes>"
            ]
          },
          "metadata": {
            "tags": [],
            "needs_background": "light"
          }
        }
      ]
    },
    {
      "cell_type": "code",
      "metadata": {
        "id": "C1bJgeHfbf_B",
        "colab": {
          "base_uri": "https://localhost:8080/",
          "height": 339
        },
        "outputId": "8b62e647-8b03-43d3-d710-35ea8aa65136"
      },
      "source": [
        "import pandas as pd\n",
        "import matplotlib.pyplot as plt\n",
        "\n",
        "data_frame = pd.read_csv(\"Global_Mobility_Report.csv\")\n",
        "\n",
        "us_mobility = data_frame.loc[248653:248760,:]\n",
        "\n",
        "df = pd.read_csv(\"(Geotagged) Covid-19 Sentiment Score - Sheet1 (3).csv\")\n",
        "df = df.loc[0:107]\n",
        "df['Percent Change'] = pd.to_numeric(df['Percent Change'],errors='coerce')\n",
        "\n",
        "'''\n",
        "df = df[df[\"Percent Change\"]<100]\n",
        "df = df[df[\"Percent Change\"]>-100]\n",
        "'''\n",
        "\n",
        "#plt.scatter(us_mobility[\"parks_percent_change_from_baseline\"],df[\"Sentiment Score Mean\"])\n",
        "#plt.savefig(\"Mobility to Parks in the US vs Sentiment Score\")\n",
        "\n",
        "#plt.scatter(us_mobility[\"retail_and_recreation_percent_change_from_baseline\"],df[\"Sentiment Score Mean\"])\n",
        "plt.scatter(us_mobility[\"grocery_and_pharmacy_percent_change_from_baseline\"],df[\"Sentiment Score Mean\"])\n",
        "#plt.scatter(us_mobility[\"transit_stations_percent_change_from_baseline\"],df[\"Sentiment Score Mean\"])\n",
        "#plt.scatter(us_mobility[\"workplaces_percent_change_from_baseline\"],df[\"Sentiment Score Mean\"])"
      ],
      "execution_count": null,
      "outputs": [
        {
          "output_type": "stream",
          "text": [
            "/usr/local/lib/python3.6/dist-packages/IPython/core/interactiveshell.py:2718: DtypeWarning: Columns (3) have mixed types.Specify dtype option on import or set low_memory=False.\n",
            "  interactivity=interactivity, compiler=compiler, result=result)\n"
          ],
          "name": "stderr"
        },
        {
          "output_type": "execute_result",
          "data": {
            "text/plain": [
              "<matplotlib.collections.PathCollection at 0x7f3cf5b39710>"
            ]
          },
          "metadata": {
            "tags": []
          },
          "execution_count": 15
        },
        {
          "output_type": "display_data",
          "data": {
            "image/png": "[encoded data removed]",
            "text/plain": [
              "<Figure size 432x288 with 1 Axes>"
            ]
          },
          "metadata": {
            "tags": [],
            "needs_background": "light"
          }
        }
      ]
    },
    {
      "cell_type": "code",
      "metadata": {
        "id": "CthE4AXWoYrV",
        "colab": {
          "base_uri": "https://localhost:8080/",
          "height": 336
        },
        "outputId": "9fca11ac-f558-42ce-8252-eafa460f0a9c"
      },
      "source": [
        "import pandas as pd\n",
        "import matplotlib.pyplot as plt\n",
        "\n",
        "df = pd.read_csv(\"Global_Mobility_Report.csv\")\n",
        "\n",
        "#us_mobility = df.loc[248619:248760,:]\n",
        "us_mobility = df.loc[248637:248760,:]\n",
        "\n",
        "'''\n",
        "data_frame = pd.read_csv(\"owid-covid-data.csv\")\n",
        "us_cases = data_frame.loc[27614:27755,:]\n",
        "'''\n",
        "data_frame = pd.read_csv(\"Percent Change in Covid-19 Cases - Sheet1.csv\")\n",
        "data_frame = data_frame.loc[19:,:]\n",
        "data_frame['Percent Change'] = pd.to_numeric(data_frame['Percent Change'],errors='coerce')\n",
        "\n",
        "plt.scatter(us_mobility[\"retail_and_recreation_percent_change_from_baseline\"], data_frame[\"Percent Change\"])\n",
        "#plt.scatter(us_mobility[\"parks_percent_change_from_baseline\"], us_cases[\"new_cases\"])\n"
      ],
      "execution_count": null,
      "outputs": [
        {
          "output_type": "stream",
          "text": [
            "/usr/local/lib/python3.6/dist-packages/IPython/core/interactiveshell.py:2718: DtypeWarning: Columns (3) have mixed types.Specify dtype option on import or set low_memory=False.\n",
            "  interactivity=interactivity, compiler=compiler, result=result)\n"
          ],
          "name": "stderr"
        },
        {
          "output_type": "execute_result",
          "data": {
            "text/plain": [
              "<matplotlib.collections.PathCollection at 0x7f34223bdf60>"
            ]
          },
          "metadata": {
            "tags": []
          },
          "execution_count": 26
        },
        {
          "output_type": "display_data",
          "data": {
            "image/png": "[encoded data removed]",
            "text/plain": [
              "<Figure size 432x288 with 1 Axes>"
            ]
          },
          "metadata": {
            "tags": [],
            "needs_background": "light"
          }
        }
      ]
    }
  ]
}